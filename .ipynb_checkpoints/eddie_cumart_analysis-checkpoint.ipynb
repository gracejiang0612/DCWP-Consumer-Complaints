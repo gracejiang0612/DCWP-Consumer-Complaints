{
  "cells": [
    {
      "cell_type": "code",
      "execution_count": null,
      "metadata": {
        "vscode": {
          "languageId": "plaintext"
        }
      },
      "outputs": [],
      "source": [
        "# Eddie Cumart Ice Cream Business Analysis\n",
        "\n",
        "**Merging Similar Business Names and Analyzing Complaint Patterns**\n",
        "\n",
        "This analysis focuses on NYC Soft Ice Cream businesses owned by Eddie Cumart, which appear to have multiple name variations in the dataset that should be merged for accurate analysis.\n"
      ]
    },
    {
      "cell_type": "code",
      "execution_count": null,
      "metadata": {},
      "outputs": [],
      "source": [
        "# Import required libraries\n",
        "import pandas as pd\n",
        "import numpy as np\n",
        "import matplotlib.pyplot as plt\n",
        "import seaborn as sns\n",
        "from datetime import datetime\n",
        "\n",
        "# Configure pandas display\n",
        "pd.set_option('display.max_columns', None)\n",
        "pd.set_option('display.max_rows', 100)\n",
        "pd.set_option('display.width', None)\n",
        "\n",
        "print(\"Libraries imported successfully!\")\n",
        "print(\"Ready to analyze Eddie Cumart ice cream business complaints 🍦\")\n"
      ]
    },
    {
      "cell_type": "code",
      "execution_count": null,
      "metadata": {},
      "outputs": [],
      "source": [
        "# Load the dataset\n",
        "df = pd.read_csv('DCWP_Consumer_Complaints_20250623.csv')\n",
        "\n",
        "print(f\"Dataset loaded successfully!\")\n",
        "print(f\"Total complaints in dataset: {len(df):,}\")\n",
        "\n",
        "# Find all Eddie Cumart related businesses\n",
        "eddie_businesses = df[df['Business Name'].str.contains('Eddie Cumart', case=False, na=False)]\n",
        "\n",
        "print(f\"\\n🔍 FOUND EDDIE CUMART BUSINESS VARIATIONS:\")\n",
        "print(\"=\" * 60)\n",
        "eddie_name_counts = eddie_businesses['Business Name'].value_counts()\n",
        "for name, count in eddie_name_counts.items():\n",
        "    print(f\"• {name:<50} ({count:>3} complaints)\")\n",
        "\n",
        "print(f\"\\nTotal Eddie Cumart complaints before merging: {len(eddie_businesses):,}\")\n",
        "print(f\"Number of name variations: {len(eddie_name_counts)}\")\n"
      ]
    },
    {
      "cell_type": "code",
      "execution_count": null,
      "metadata": {},
      "outputs": [],
      "source": [
        "# Create a copy of the dataframe for merging\n",
        "df_merged = df.copy()\n",
        "\n",
        "# Define the standardized name for Eddie Cumart's business\n",
        "STANDARD_NAME = \"NYC Soft Ice Cream Truck owned by Eddie Cumart\"\n",
        "\n",
        "print(f\"🔄 MERGING EDDIE CUMART BUSINESS NAMES:\")\n",
        "print(\"=\" * 50)\n",
        "print(f\"Standardizing all variations to: '{STANDARD_NAME}'\")\n",
        "\n",
        "# Find all rows with Eddie Cumart businesses and update the name\n",
        "eddie_mask = df_merged['Business Name'].str.contains('Eddie Cumart', case=False, na=False)\n",
        "original_count = eddie_mask.sum()\n",
        "\n",
        "# Update all Eddie Cumart business names to the standard name\n",
        "df_merged.loc[eddie_mask, 'Business Name'] = STANDARD_NAME\n",
        "\n",
        "# Verify the merge\n",
        "eddie_merged = df_merged[df_merged['Business Name'] == STANDARD_NAME]\n",
        "\n",
        "print(f\"✅ Merge completed!\")\n",
        "print(f\"• Original Eddie Cumart complaints: {original_count}\")\n",
        "print(f\"• Merged Eddie Cumart complaints: {len(eddie_merged)}\")\n",
        "print(f\"• Unique business names reduced from {len(eddie_name_counts)} to 1\")\n",
        "\n",
        "# Show the merged business in context of all businesses\n",
        "top_businesses_after_merge = df_merged['Business Name'].value_counts().head(10)\n",
        "eddie_rank = top_businesses_after_merge.rank(ascending=False)[STANDARD_NAME] if STANDARD_NAME in top_businesses_after_merge.index else \"Not in top 10\"\n",
        "\n",
        "print(f\"\\n📊 EDDIE CUMART'S RANKING AFTER MERGE:\")\n",
        "print(f\"• Now ranks #{int(eddie_rank)} in NYC with {len(eddie_merged)} total complaints\")\n",
        "print(f\"• This makes it the #{int(eddie_rank)} most complained-about business in NYC!\")\n"
      ]
    },
    {
      "cell_type": "code",
      "execution_count": null,
      "metadata": {},
      "outputs": [],
      "source": [
        "## 📋 All Complaints for Eddie Cumart's Ice Cream Business\n",
        "\n",
        "**Complete Dataset of All 340 Complaints**\n"
      ]
    },
    {
      "cell_type": "code",
      "execution_count": null,
      "metadata": {},
      "outputs": [],
      "source": [
        "# Display all Eddie Cumart complaints\n",
        "print(f\"📋 ALL {len(eddie_merged)} COMPLAINTS FOR EDDIE CUMART'S ICE CREAM BUSINESS\")\n",
        "print(\"=\" * 80)\n",
        "\n",
        "# Convert dates for better display\n",
        "eddie_display = eddie_merged.copy()\n",
        "eddie_display['Intake Date'] = pd.to_datetime(eddie_display['Intake Date'], errors='coerce')\n",
        "eddie_display['Result Date'] = pd.to_datetime(eddie_display['Result Date'], errors='coerce')\n",
        "\n",
        "# Select most relevant columns for display\n",
        "key_columns = [\n",
        "    'Record ID', 'Intake Date', 'Intake Channel', 'Business Category', \n",
        "    'Complaint Code', 'Result', 'Referred To', 'Borough', 'Postcode', \n",
        "    'Street1', 'City', 'Refund Amount', 'Contract Cancelled Amount'\n",
        "]\n",
        "\n",
        "# Filter to available columns\n",
        "available_columns = [col for col in key_columns if col in eddie_display.columns]\n",
        "eddie_display_selected = eddie_display[available_columns]\n",
        "\n",
        "print(f\"Showing {len(available_columns)} key columns out of {len(eddie_display.columns)} total columns\")\n",
        "print(f\"(Use .columns to see all available columns)\")\n",
        "print(\"\\n\")\n",
        "\n",
        "# Display all rows\n",
        "for i, (idx, row) in enumerate(eddie_display_selected.iterrows(), 1):\n",
        "    print(f\"COMPLAINT #{i} (Record ID: {row['Record ID']})\")\n",
        "    print(\"-\" * 50)\n",
        "    for col in available_columns:\n",
        "        value = row[col]\n",
        "        if pd.isna(value):\n",
        "            value = \"Not Available\"\n",
        "        elif col in ['Intake Date', 'Result Date'] and not pd.isna(value):\n",
        "            value = value.strftime('%Y-%m-%d') if hasattr(value, 'strftime') else str(value)\n",
        "        print(f\"  {col:<25}: {value}\")\n",
        "    print(\"\\n\")\n",
        "\n",
        "print(f\"📊 SUMMARY: Displayed all {len(eddie_merged)} complaints for Eddie Cumart's ice cream business\")\n"
      ]
    },
    {
      "cell_type": "code",
      "execution_count": null,
      "metadata": {},
      "outputs": [],
      "source": [
        "## 📊 Analysis of Eddie Cumart's Ice Cream Business Complaints\n",
        "\n",
        "**Pattern Analysis and Key Insights**\n"
      ]
    }
  ],
  "metadata": {
    "language_info": {
      "name": "python"
    }
  },
  "nbformat": 4,
  "nbformat_minor": 2
}
